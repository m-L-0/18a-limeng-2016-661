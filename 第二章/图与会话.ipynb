{
 "cells": [
  {
   "cell_type": "code",
   "execution_count": null,
   "metadata": {},
   "outputs": [],
   "source": [
    "#1.构建一张图，实现两个数的加法操作，并在两个不同的会话中执行图。\n",
    "import tensorflow as tf\n",
    "with tf.Graph().as_default() as g:\n",
    "    x = 3\n",
    "    y = 2\n",
    "    z = tf.add(x,y)\n",
    "with tf.Session(graph=g) as sess:\n",
    "    res = sess.run(z)\n",
    "    print(res)\n",
    "with tf.Session(graph=g) as sess1:\n",
    "    res=sess1.run(z)\n",
    "    print(res)"
   ]
  },
  {
   "cell_type": "code",
   "execution_count": null,
   "metadata": {},
   "outputs": [],
   "source": [
    "#2.学习TensorFlow中执行常量基本运算API的基本用法\n",
    "import tensorflow as tf\n",
    "x = 4\n",
    "y = 3\n",
    "\n",
    "add_op = tf.add(x, y)   #x+y\n",
    "mul_op = tf.multiply(x, y)   #x*y\n",
    "sub_op = tf.subtract(x, y)   #x-y\n",
    "pow_op = tf.pow(x,y)  #pow幂值计算\n",
    "m_op=tf.mod(x,y) #取余\n",
    "s_op=tf.square(x) #平方\n",
    "sq_op=tf.sqrt(x) #开根号\n",
    "\n",
    "with tf.Session() as sess:\n",
    "    res1, res2, res3, res4 ,res5,res6,res7= sess.run([add_op, mul_op, sub_op, pow_op,m_op,s_op,sq_op])\n",
    "    print(res1)\n",
    "    print(res2)\n",
    "    print(res3)\n",
    "    print(res4)\n",
    "    print(res5)\n",
    "    print(res6)\n",
    "    print(res7)"
   ]
  }
 ],
 "metadata": {
  "kernelspec": {
   "display_name": "Python 3",
   "language": "python",
   "name": "python3"
  },
  "language_info": {
   "codemirror_mode": {
    "name": "ipython",
    "version": 3
   },
   "file_extension": ".py",
   "mimetype": "text/x-python",
   "name": "python",
   "nbconvert_exporter": "python",
   "pygments_lexer": "ipython3",
   "version": "3.6.5"
  }
 },
 "nbformat": 4,
 "nbformat_minor": 2
}
