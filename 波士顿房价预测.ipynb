{
 "cells": [
  {
   "cell_type": "code",
   "execution_count": 1,
   "metadata": {},
   "outputs": [
    {
     "name": "stderr",
     "output_type": "stream",
     "text": [
      "D:\\lala\\lib\\site-packages\\h5py\\__init__.py:36: FutureWarning: Conversion of the second argument of issubdtype from `float` to `np.floating` is deprecated. In future, it will be treated as `np.float64 == np.dtype(float).type`.\n",
      "  from ._conv import register_converters as _register_converters\n"
     ]
    }
   ],
   "source": [
    "import numpy as np\n",
    "import tensorflow as tf"
   ]
  },
  {
   "cell_type": "code",
   "execution_count": 2,
   "metadata": {},
   "outputs": [],
   "source": [
    "(train_data,train_label),(test_data,test_label) = tf.keras.datasets.boston_housing.load_data()"
   ]
  },
  {
   "cell_type": "code",
   "execution_count": 3,
   "metadata": {},
   "outputs": [
    {
     "data": {
      "text/plain": [
       "(404, 13)"
      ]
     },
     "execution_count": 3,
     "metadata": {},
     "output_type": "execute_result"
    }
   ],
   "source": [
    "train_data.shape"
   ]
  },
  {
   "cell_type": "code",
   "execution_count": 4,
   "metadata": {},
   "outputs": [
    {
     "data": {
      "text/plain": [
       "(404,)"
      ]
     },
     "execution_count": 4,
     "metadata": {},
     "output_type": "execute_result"
    }
   ],
   "source": [
    "train_label.shape"
   ]
  },
  {
   "cell_type": "code",
   "execution_count": 5,
   "metadata": {},
   "outputs": [
    {
     "data": {
      "text/plain": [
       "(102, 13)"
      ]
     },
     "execution_count": 5,
     "metadata": {},
     "output_type": "execute_result"
    }
   ],
   "source": [
    "test_data.shape"
   ]
  },
  {
   "cell_type": "code",
   "execution_count": 6,
   "metadata": {},
   "outputs": [],
   "source": [
    "with tf.Graph().as_default() as g:\n",
    "    inputs = tf.placeholder(shape=[None,13],dtype=tf.float32)\n",
    "    labels = tf.placeholder(shape=[None],dtype=tf.float32)\n",
    "    \n",
    "    h1 = tf.keras.layers.Dense(64,activation=tf.nn.relu)(inputs)\n",
    "    h2 = tf.keras.layers.Dense(16,activation=tf.nn.relu)(h1)\n",
    "    output = tf.keras.layers.Dense(1,activation=None)(h2)\n",
    "    \n",
    "    loss = tf.reduce_mean(tf.keras.losses.mean_squared_error(labels,output))\n",
    "    tf.summary.scalar('loss',loss)\n",
    "    optim = tf.train.GradientDescentOptimizer(learning_rate=1e-6)\n",
    "    train_op = optim.minimize(loss)"
   ]
  },
  {
   "cell_type": "code",
   "execution_count": 7,
   "metadata": {},
   "outputs": [
    {
     "name": "stdout",
     "output_type": "stream",
     "text": [
      "epoch   0, train loss 123.4150, val loss 1700.2256, loss 120.1194\n",
      "epoch   1, train loss 146.1529, val loss 122.7131, loss 107.7166\n",
      "epoch   2, train loss 92.0557, val loss 117.4386, loss 102.1353\n",
      "epoch   3, train loss 114.1733, val loss 108.5745, loss 100.1041\n",
      "epoch   4, train loss 123.2742, val loss 99.4992, loss 96.3784\n",
      "epoch   5, train loss 114.5765, val loss 97.7451, loss 94.6397\n",
      "epoch   6, train loss 79.8666, val loss 95.7965, loss 94.3010\n",
      "epoch   7, train loss 150.7663, val loss 97.2156, loss 91.9106\n",
      "epoch   8, train loss 92.2187, val loss 94.9384, loss 90.9794\n",
      "epoch   9, train loss 92.8727, val loss 96.2007, loss 90.3077\n",
      "epoch  10, train loss 72.3496, val loss 91.6911, loss 90.1646\n",
      "epoch  11, train loss 69.1985, val loss 91.7469, loss 90.0610\n",
      "epoch  12, train loss 20.3009, val loss 91.2172, loss 88.8054\n",
      "epoch  13, train loss 79.2431, val loss 90.5335, loss 88.2070\n",
      "epoch  14, train loss 100.5855, val loss 92.3453, loss 87.8841\n",
      "epoch  15, train loss 104.4555, val loss 91.4091, loss 88.5639\n",
      "epoch  16, train loss 130.4799, val loss 89.8262, loss 88.8821\n",
      "epoch  17, train loss 101.4576, val loss 88.2797, loss 88.3103\n",
      "epoch  18, train loss 58.7835, val loss 88.0443, loss 88.0413\n",
      "epoch  19, train loss 99.8125, val loss 92.4029, loss 87.1958\n",
      "epoch  20, train loss 96.1175, val loss 89.6808, loss 87.0563\n",
      "epoch  21, train loss 70.4377, val loss 83.9752, loss 88.2100\n",
      "epoch  22, train loss 96.3838, val loss 88.0671, loss 88.5055\n",
      "epoch  23, train loss 106.7413, val loss 89.8208, loss 87.6154\n",
      "epoch  24, train loss 98.7408, val loss 88.4615, loss 87.6124\n",
      "epoch  25, train loss 72.3945, val loss 91.8926, loss 86.9127\n",
      "epoch  26, train loss 100.2084, val loss 83.8236, loss 87.6457\n",
      "epoch  27, train loss 117.2226, val loss 87.7160, loss 88.0797\n",
      "epoch  28, train loss 110.0331, val loss 89.9730, loss 86.8565\n",
      "epoch  29, train loss 110.1281, val loss 86.6832, loss 88.1438\n",
      "epoch  30, train loss 72.6470, val loss 85.5300, loss 87.6629\n",
      "epoch  31, train loss 107.9490, val loss 89.8641, loss 86.8095\n",
      "epoch  32, train loss 51.8645, val loss 89.1572, loss 87.2539\n",
      "epoch  33, train loss 84.8242, val loss 90.8553, loss 86.9276\n",
      "epoch  34, train loss 68.7347, val loss 88.7426, loss 87.6033\n",
      "epoch  35, train loss 67.1645, val loss 89.8949, loss 86.9432\n",
      "epoch  36, train loss 66.1806, val loss 88.9898, loss 86.6273\n",
      "epoch  37, train loss 110.5703, val loss 86.0823, loss 87.7011\n",
      "epoch  38, train loss 91.1720, val loss 89.1974, loss 87.2531\n",
      "epoch  39, train loss 112.5646, val loss 87.0646, loss 86.5263\n",
      "epoch  40, train loss 93.0819, val loss 86.2967, loss 86.4935\n",
      "epoch  41, train loss 64.3834, val loss 88.2639, loss 86.4855\n",
      "epoch  42, train loss 116.4862, val loss 85.2147, loss 87.5550\n",
      "epoch  43, train loss 94.1893, val loss 85.3819, loss 87.4985\n",
      "epoch  44, train loss 91.3874, val loss 90.3339, loss 86.6516\n",
      "epoch  45, train loss 120.7839, val loss 88.1843, loss 86.4381\n",
      "epoch  46, train loss 38.6810, val loss 88.7296, loss 87.6447\n",
      "epoch  47, train loss 71.3896, val loss 90.3073, loss 86.5482\n",
      "epoch  48, train loss 70.2369, val loss 90.1007, loss 87.6419\n",
      "epoch  49, train loss 117.2838, val loss 89.8460, loss 86.4004\n",
      "epoch  50, train loss 90.4030, val loss 83.1319, loss 86.8777\n",
      "epoch  51, train loss 104.1687, val loss 88.3177, loss 87.8415\n",
      "epoch  52, train loss 65.5911, val loss 86.8058, loss 86.8296\n",
      "epoch  53, train loss 75.1614, val loss 88.8923, loss 87.4345\n",
      "epoch  54, train loss 117.3768, val loss 80.7809, loss 87.3919\n",
      "epoch  55, train loss 52.9067, val loss 87.8656, loss 88.5206\n",
      "epoch  56, train loss 118.1490, val loss 89.7770, loss 86.8771\n",
      "epoch  57, train loss 77.0601, val loss 87.9766, loss 86.8709\n",
      "epoch  58, train loss 90.9144, val loss 88.3138, loss 86.4386\n",
      "epoch  59, train loss 73.6103, val loss 89.7073, loss 87.3013\n",
      "epoch  60, train loss 99.9897, val loss 90.1187, loss 86.3619\n",
      "epoch  61, train loss 97.5515, val loss 89.2276, loss 88.2998\n",
      "epoch  62, train loss 86.1442, val loss 89.7369, loss 87.1458\n",
      "epoch  63, train loss 159.6508, val loss 87.2250, loss 87.2230\n",
      "epoch  64, train loss 83.2372, val loss 89.2877, loss 86.7806\n",
      "epoch  65, train loss 75.9202, val loss 91.1105, loss 86.4129\n",
      "epoch  66, train loss 44.5313, val loss 87.5783, loss 88.8347\n",
      "epoch  67, train loss 63.1273, val loss 86.7437, loss 89.6113\n",
      "epoch  68, train loss 125.8094, val loss 88.0457, loss 87.4915\n",
      "epoch  69, train loss 82.4538, val loss 86.7091, loss 88.2957\n",
      "epoch  70, train loss 67.2590, val loss 88.7178, loss 88.3901\n",
      "epoch  71, train loss 104.4494, val loss 88.2945, loss 87.1194\n",
      "epoch  72, train loss 66.9013, val loss 88.4555, loss 90.0564\n",
      "epoch  73, train loss 57.2570, val loss 89.9874, loss 88.8493\n",
      "epoch  74, train loss 58.6556, val loss 86.3940, loss 86.8150\n",
      "epoch  75, train loss 78.8694, val loss 88.4250, loss 88.1850\n",
      "epoch  76, train loss 48.6635, val loss 88.4412, loss 86.9600\n",
      "epoch  77, train loss 78.9941, val loss 87.8378, loss 87.8940\n",
      "epoch  78, train loss 100.3633, val loss 89.6366, loss 86.9165\n",
      "epoch  79, train loss 116.7862, val loss 89.5959, loss 86.3067\n",
      "epoch  80, train loss 91.9352, val loss 89.8405, loss 86.5776\n",
      "epoch  81, train loss 54.4514, val loss 88.2639, loss 88.8345\n",
      "epoch  82, train loss 134.1660, val loss 88.6387, loss 87.5877\n",
      "epoch  83, train loss 38.7686, val loss 83.6569, loss 87.5978\n",
      "epoch  84, train loss 85.1839, val loss 89.8917, loss 87.5069\n",
      "epoch  85, train loss 49.1805, val loss 88.2368, loss 87.7481\n",
      "epoch  86, train loss 48.7544, val loss 86.6207, loss 87.5357\n",
      "epoch  87, train loss 88.4898, val loss 85.6983, loss 87.4116\n",
      "epoch  88, train loss 45.5329, val loss 90.0030, loss 87.3929\n",
      "epoch  89, train loss 61.9716, val loss 87.5152, loss 88.6343\n",
      "epoch  90, train loss 141.3781, val loss 85.7847, loss 86.6845\n",
      "epoch  91, train loss 117.3261, val loss 88.2176, loss 86.2549\n",
      "epoch  92, train loss 65.8311, val loss 89.7998, loss 87.0496\n",
      "epoch  93, train loss 76.8755, val loss 87.6742, loss 87.3814\n",
      "epoch  94, train loss 61.0454, val loss 85.0713, loss 87.4531\n",
      "epoch  95, train loss 113.8881, val loss 90.0143, loss 87.4749\n",
      "epoch  96, train loss 64.1236, val loss 89.3847, loss 88.4725\n",
      "epoch  97, train loss 82.6491, val loss 83.7061, loss 89.8163\n",
      "epoch  98, train loss 135.5541, val loss 89.9365, loss 86.4909\n",
      "epoch  99, train loss 81.1519, val loss 88.6454, loss 86.3901\n",
      "epoch 100, train loss 75.6990, val loss 87.8150, loss 87.4139\n",
      "epoch 101, train loss 125.3455, val loss 88.8012, loss 86.3047\n",
      "epoch 102, train loss 142.9304, val loss 85.6777, loss 87.5072\n",
      "epoch 103, train loss 91.4292, val loss 89.6225, loss 86.6108\n",
      "epoch 104, train loss 106.7496, val loss 87.4335, loss 87.0092\n",
      "epoch 105, train loss 111.8207, val loss 86.9087, loss 86.6298\n",
      "epoch 106, train loss 98.8433, val loss 87.1641, loss 86.3396\n",
      "epoch 107, train loss 95.9937, val loss 86.5935, loss 86.5108\n",
      "epoch 108, train loss 67.4275, val loss 84.3722, loss 87.8373\n",
      "epoch 109, train loss 101.5742, val loss 86.7974, loss 86.8638\n",
      "epoch 110, train loss 106.2689, val loss 86.7447, loss 86.2288\n",
      "epoch 111, train loss 156.1118, val loss 90.0117, loss 86.3020\n",
      "epoch 112, train loss 71.1306, val loss 88.6696, loss 86.4095\n",
      "epoch 113, train loss 123.2841, val loss 88.9327, loss 86.8057\n",
      "epoch 114, train loss 110.2962, val loss 88.2577, loss 86.6285\n",
      "epoch 115, train loss 77.8746, val loss 85.7924, loss 86.9494\n",
      "epoch 116, train loss 87.2234, val loss 86.2835, loss 86.5403\n",
      "epoch 117, train loss 77.9328, val loss 89.3214, loss 86.5585\n",
      "epoch 118, train loss 73.9936, val loss 88.7609, loss 87.5533\n",
      "epoch 119, train loss 103.5707, val loss 90.0935, loss 86.2463\n",
      "epoch 120, train loss 66.4562, val loss 88.6395, loss 87.7141\n",
      "epoch 121, train loss 106.5357, val loss 86.4808, loss 86.4139\n",
      "epoch 122, train loss 107.5754, val loss 89.7754, loss 86.4630\n",
      "epoch 123, train loss 84.3288, val loss 85.5728, loss 87.2583\n",
      "epoch 124, train loss 67.0371, val loss 85.6272, loss 87.4736\n",
      "epoch 125, train loss 70.1818, val loss 88.8444, loss 86.1916\n",
      "epoch 126, train loss 71.5875, val loss 87.2418, loss 87.2598\n",
      "epoch 127, train loss 74.8887, val loss 87.7214, loss 88.1110\n",
      "epoch 128, train loss 72.4812, val loss 89.4374, loss 86.4055\n",
      "epoch 129, train loss 127.1912, val loss 87.6540, loss 87.1350\n",
      "epoch 130, train loss 86.1354, val loss 89.2722, loss 88.6588\n",
      "epoch 131, train loss 38.5394, val loss 87.8166, loss 89.0378\n",
      "epoch 132, train loss 108.8975, val loss 83.2484, loss 87.6810\n",
      "epoch 133, train loss 85.6544, val loss 88.9406, loss 88.5842\n",
      "epoch 134, train loss 102.4930, val loss 84.6170, loss 86.3288\n",
      "epoch 135, train loss 78.2422, val loss 89.7438, loss 86.4315\n",
      "epoch 136, train loss 97.8099, val loss 89.3237, loss 86.3981\n",
      "epoch 137, train loss 82.3526, val loss 89.6624, loss 88.3741\n",
      "epoch 138, train loss 83.5614, val loss 89.2993, loss 86.6461\n",
      "epoch 139, train loss 99.7807, val loss 88.5607, loss 86.7338\n",
      "epoch 140, train loss 63.2242, val loss 90.5022, loss 86.2853\n",
      "epoch 141, train loss 126.7682, val loss 81.3659, loss 86.6148\n",
      "epoch 142, train loss 102.3780, val loss 90.9474, loss 87.9530\n"
     ]
    },
    {
     "name": "stdout",
     "output_type": "stream",
     "text": [
      "epoch 143, train loss 125.1959, val loss 89.1806, loss 86.2168\n",
      "epoch 144, train loss 108.9591, val loss 87.4325, loss 86.1577\n",
      "epoch 145, train loss 112.1584, val loss 87.0919, loss 86.7094\n",
      "epoch 146, train loss 93.2129, val loss 88.6611, loss 86.0766\n",
      "epoch 147, train loss 129.3577, val loss 89.6243, loss 86.2052\n",
      "epoch 148, train loss 85.6723, val loss 89.4042, loss 86.5866\n",
      "epoch 149, train loss 61.8282, val loss 86.4126, loss 88.5062\n",
      "epoch 150, train loss 65.7393, val loss 84.7204, loss 87.5583\n",
      "epoch 151, train loss 112.1862, val loss 86.7118, loss 86.2056\n",
      "epoch 152, train loss 65.0136, val loss 86.4037, loss 86.0368\n",
      "epoch 153, train loss 39.4719, val loss 86.6371, loss 89.4492\n",
      "epoch 154, train loss 140.3329, val loss 89.0359, loss 86.3847\n",
      "epoch 155, train loss 69.1288, val loss 87.7668, loss 86.4847\n",
      "epoch 156, train loss 117.0101, val loss 87.5678, loss 86.0987\n",
      "epoch 157, train loss 136.1117, val loss 85.8748, loss 86.1662\n",
      "epoch 158, train loss 72.2933, val loss 85.5134, loss 89.1780\n",
      "epoch 159, train loss 54.4374, val loss 89.4626, loss 87.1078\n",
      "epoch 160, train loss 90.3746, val loss 84.2193, loss 87.8498\n",
      "epoch 161, train loss 63.9831, val loss 88.1812, loss 87.5928\n",
      "epoch 162, train loss 100.7343, val loss 88.0048, loss 86.0900\n",
      "epoch 163, train loss 66.7940, val loss 86.5046, loss 87.9439\n",
      "epoch 164, train loss 91.1959, val loss 89.9128, loss 86.1383\n",
      "epoch 165, train loss 88.9529, val loss 88.0975, loss 87.0600\n",
      "epoch 166, train loss 91.6267, val loss 90.3626, loss 87.0168\n",
      "epoch 167, train loss 93.1673, val loss 85.9923, loss 86.0477\n",
      "epoch 168, train loss 39.7808, val loss 89.1921, loss 87.3933\n",
      "epoch 169, train loss 135.7408, val loss 90.2138, loss 86.4975\n",
      "epoch 170, train loss 52.2634, val loss 86.9814, loss 88.0392\n",
      "epoch 171, train loss 77.0387, val loss 87.4210, loss 86.4472\n",
      "epoch 172, train loss 72.8103, val loss 89.4927, loss 86.4036\n",
      "epoch 173, train loss 57.2958, val loss 85.9280, loss 86.3186\n",
      "epoch 174, train loss 106.6625, val loss 90.1867, loss 86.4576\n",
      "epoch 175, train loss 100.6111, val loss 86.6055, loss 87.0620\n",
      "epoch 176, train loss 52.1970, val loss 86.3853, loss 86.9465\n",
      "epoch 177, train loss 135.4151, val loss 88.8451, loss 85.9740\n",
      "epoch 178, train loss 59.8449, val loss 86.4952, loss 87.3014\n",
      "epoch 179, train loss 87.9629, val loss 89.8821, loss 86.4116\n",
      "epoch 180, train loss 69.1701, val loss 87.8510, loss 86.5454\n",
      "epoch 181, train loss 144.9854, val loss 89.0512, loss 86.1969\n",
      "epoch 182, train loss 100.7897, val loss 89.6035, loss 86.0798\n",
      "epoch 183, train loss 138.4047, val loss 85.3765, loss 86.2326\n",
      "epoch 184, train loss 134.6444, val loss 87.0928, loss 86.1194\n",
      "epoch 185, train loss 72.9483, val loss 89.6125, loss 86.1098\n",
      "epoch 186, train loss 35.4964, val loss 86.8549, loss 87.0052\n",
      "epoch 187, train loss 79.1447, val loss 85.5078, loss 87.8389\n",
      "epoch 188, train loss 87.8313, val loss 88.2213, loss 86.5288\n",
      "epoch 189, train loss 91.8180, val loss 85.8403, loss 86.5394\n",
      "epoch 190, train loss 100.6227, val loss 87.6974, loss 86.9420\n",
      "epoch 191, train loss 103.7850, val loss 88.1072, loss 86.6950\n",
      "epoch 192, train loss 120.6479, val loss 89.8205, loss 85.9564\n",
      "epoch 193, train loss 95.7368, val loss 89.7805, loss 86.5901\n",
      "epoch 194, train loss 94.7359, val loss 89.9528, loss 86.4202\n",
      "epoch 195, train loss 126.7473, val loss 88.2002, loss 85.9728\n",
      "epoch 196, train loss 79.0727, val loss 89.1175, loss 86.3158\n",
      "epoch 197, train loss 69.3335, val loss 91.4030, loss 88.9718\n",
      "epoch 198, train loss 85.7247, val loss 87.7552, loss 85.9578\n",
      "epoch 199, train loss 80.6086, val loss 88.8101, loss 86.0137\n"
     ]
    }
   ],
   "source": [
    "with tf.Session(graph=g) as sess:\n",
    "    train_writer = tf.summary.FileWriter('/')\n",
    "    \n",
    "    sess.run(tf.global_variables_initializer())\n",
    "    batch_size = 32\n",
    "    for epoch in range(200):\n",
    "        order = np.argsort(np.random.random(train_label.shape))\n",
    "        train_data = train_data[order]\n",
    "        train_label = train_label[order]\n",
    "        \n",
    "        res_train_losses = []\n",
    "        for i in range(train_label.shape[0] // batch_size):\n",
    "            start = i * batch_size\n",
    "            end = (i+1) * batch_size\n",
    "            res_train_loss,_ = sess.run([loss,train_op],\n",
    "                                         feed_dict={inputs:train_data[start:end],\n",
    "                                                   labels:train_label[start:end]})\n",
    "            res_train_losses.append(res_train_loss)\n",
    "        res_val_loss = sess.run(loss,\n",
    "                               feed_dict={inputs:test_data,\n",
    "                                         labels:test_label})\n",
    "        print('epoch %3d, train loss %2.4f, val loss %2.4f, loss %3.4f' %\n",
    "             (epoch, res_train_loss, np.mean(res_train_losses),res_val_loss))"
   ]
  },
  {
   "cell_type": "code",
   "execution_count": 26,
   "metadata": {},
   "outputs": [],
   "source": []
  },
  {
   "cell_type": "code",
   "execution_count": null,
   "metadata": {},
   "outputs": [],
   "source": []
  }
 ],
 "metadata": {
  "kernelspec": {
   "display_name": "Python 3",
   "language": "python",
   "name": "python3"
  },
  "language_info": {
   "codemirror_mode": {
    "name": "ipython",
    "version": 3
   },
   "file_extension": ".py",
   "mimetype": "text/x-python",
   "name": "python",
   "nbconvert_exporter": "python",
   "pygments_lexer": "ipython3",
   "version": "3.6.5"
  }
 },
 "nbformat": 4,
 "nbformat_minor": 2
}
