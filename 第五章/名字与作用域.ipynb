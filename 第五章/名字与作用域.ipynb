{
 "cells": [
  {
   "cell_type": "markdown",
   "metadata": {},
   "source": [
    "name_scope及variable_scope的作用:\n",
    "相同点：\n",
    "都是为了不传引用而访问跨代码区域变量的一种方式，其内部功能是在其代码块内显式创建的变量都会带上scope前缀。\n",
    "不同点：\n",
    "在其作用域中获取变量，它们对 tf.get_variable() 函数的作用是一个会自动添加前缀，一个不会添加前缀。"
   ]
  },
  {
   "cell_type": "code",
   "execution_count": null,
   "metadata": {},
   "outputs": [],
   "source": [
    " import tensorflow as tf\n",
    "with tf.variable_scope('scope', reuse=None) as scope:\n",
    "    tf.get_variable('x', dtype=tf.float32, shape=[])\n",
    "    scope.reuse_variables()\n",
    "    x = tf.get_variable('x')\n",
    "    y = tf.nn.sigmoid(x)\n",
    "with tf.Session() as sess:\n",
    "    sess.run(tf.global_variables_initializer())\n",
    "    print(sess.run(y))"
   ]
  }
 ],
 "metadata": {
  "kernelspec": {
   "display_name": "Python 3",
   "language": "python",
   "name": "python3"
  },
  "language_info": {
   "codemirror_mode": {
    "name": "ipython",
    "version": 3
   },
   "file_extension": ".py",
   "mimetype": "text/x-python",
   "name": "python",
   "nbconvert_exporter": "python",
   "pygments_lexer": "ipython3",
   "version": "3.6.5"
  }
 },
 "nbformat": 4,
 "nbformat_minor": 2
}
