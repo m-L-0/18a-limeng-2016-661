{
 "cells": [
  {
   "cell_type": "code",
   "execution_count": null,
   "metadata": {},
   "outputs": [],
   "source": [
    " import tensorflow as tf\n",
    "w1 = tf.Variable(tf.random_normal([3]))\n",
    "w2 = tf.Variable(tf.random_normal([3]))\n",
    "b = tf.Variable(tf.random_normal([3]))\n",
    "x1 = tf.placeholder(dtype=tf.float32, shape=[]) \n",
    "x2 = tf.placeholder(dtype=tf.float32, shape=[])\n",
    "y = w1*x1 + w2*x2 + b\n",
    "with tf.Session() as sess:\n",
    "    sess.run(tf.global_variables_initializer())\n",
    "    print(sess.run(y,feed_dict={x1:[3,4,5],x2:[7,8,9]}))"
   ]
  }
 ],
 "metadata": {
  "kernelspec": {
   "display_name": "Python 3",
   "language": "python",
   "name": "python3"
  },
  "language_info": {
   "codemirror_mode": {
    "name": "ipython",
    "version": 3
   },
   "file_extension": ".py",
   "mimetype": "text/x-python",
   "name": "python",
   "nbconvert_exporter": "python",
   "pygments_lexer": "ipython3",
   "version": "3.6.5"
  }
 },
 "nbformat": 4,
 "nbformat_minor": 2
}
